{
 "cells": [
  {
   "cell_type": "markdown",
   "metadata": {},
   "source": [
    "### Intro to Exploratory Data Analysis (EDA)\n",
    "\n"
   ]
  },
  {
   "cell_type": "markdown",
   "metadata": {},
   "source": [
    "Hadley Wickham's approach to EDA:  \n",
    "![image of the data flow showing visualization as an exploratory and iterative process](http://benbestphd.com/images/r4ds_data-science.png)"
   ]
  },
  {
   "cell_type": "markdown",
   "metadata": {},
   "source": [
    "#### The goal of EDA is to discover patterns in data. This is a fundamental stepping stone towards predictive modelling, or an end goal in itself. \n",
    "\n",
    "Tips for good EDA:\n",
    "- Understand the context. \n",
    "- Use graphical representations of data\n",
    "- Develop models in an iterative process of tentative model specification and residual assessment \n",
    "- Question the data: Who collected it? Who is distributing it? Do all of the patterns make sense to what you know about the world? If they don’t, go back and look more closely at your data.\n",
    "- Don’t think of EDA as an initial step. \n"
   ]
  },
  {
   "cell_type": "markdown",
   "metadata": {},
   "source": [
    "##### Pandas? Pandas!\n",
    "\n",
    "![Image of red panda](https://i.pinimg.com/736x/57/49/cb/5749cb63e52dd8ce3a0376ddd185cdaf--adorable-pets-baby-animals-adorable.jpg)"
   ]
  },
  {
   "cell_type": "code",
   "execution_count": 1,
   "metadata": {},
   "outputs": [],
   "source": [
    "#imports a bunch of packages\n",
    "import pandas as pd #pandas is the package we're going to be using the most of!\n",
    "import matplotlib.pyplot as plt #matplotlib is a great plotting library\n",
    "plt.style.use('ggplot') #this adds a customised style to my plots\n",
    "% matplotlib inline \n",
    "#this makes sure my plots show up!"
   ]
  },
  {
   "cell_type": "code",
   "execution_count": 2,
   "metadata": {},
   "outputs": [],
   "source": [
    "#we'll start off by loading our dataset\n",
    "#pandas makes it incredibly easy to load CSVs, tabular data, json files, etc. \n",
    "#pandas can read a file from a local computer or directly from a URL\n",
    "df = pd.read_csv('Washington_DC_Public_Art.csv') #assign the CSV we're going to work on to the variable DF"
   ]
  },
  {
   "cell_type": "code",
   "execution_count": 3,
   "metadata": {
    "scrolled": false
   },
   "outputs": [
    {
     "data": {
      "text/html": [
       "<div>\n",
       "<style>\n",
       "    .dataframe thead tr:only-child th {\n",
       "        text-align: right;\n",
       "    }\n",
       "\n",
       "    .dataframe thead th {\n",
       "        text-align: left;\n",
       "    }\n",
       "\n",
       "    .dataframe tbody tr th {\n",
       "        vertical-align: top;\n",
       "    }\n",
       "</style>\n",
       "<table border=\"1\" class=\"dataframe\">\n",
       "  <thead>\n",
       "    <tr style=\"text-align: right;\">\n",
       "      <th></th>\n",
       "      <th>X</th>\n",
       "      <th>Y</th>\n",
       "      <th>OBJECTID</th>\n",
       "      <th>ADDRESS</th>\n",
       "      <th>ARTIST</th>\n",
       "      <th>TITLE</th>\n",
       "      <th>MEDIUM</th>\n",
       "      <th>YEAR</th>\n",
       "      <th>ART_TYPE</th>\n",
       "      <th>DISPLAY</th>\n",
       "      <th>LOCATION</th>\n",
       "      <th>NEIGHBORHOOD</th>\n",
       "      <th>SIZE_</th>\n",
       "      <th>WARD</th>\n",
       "      <th>DURATION</th>\n",
       "      <th>PROGRAM_SOURCE</th>\n",
       "      <th>ARTWORK</th>\n",
       "    </tr>\n",
       "  </thead>\n",
       "  <tbody>\n",
       "    <tr>\n",
       "      <th>0</th>\n",
       "      <td>-77.023515</td>\n",
       "      <td>38.914256</td>\n",
       "      <td>1</td>\n",
       "      <td>813 S STREET NW</td>\n",
       "      <td>Richard Colman</td>\n",
       "      <td>Checker Club</td>\n",
       "      <td>Aerosol paint</td>\n",
       "      <td>2011</td>\n",
       "      <td>Mural</td>\n",
       "      <td>Capitol Pool Checkers Club, located at back of...</td>\n",
       "      <td>813 s street nw</td>\n",
       "      <td>shaw</td>\n",
       "      <td>NaN</td>\n",
       "      <td>1</td>\n",
       "      <td>Temporary</td>\n",
       "      <td>MuralsDC</td>\n",
       "      <td>NaN</td>\n",
       "    </tr>\n",
       "    <tr>\n",
       "      <th>1</th>\n",
       "      <td>-76.986446</td>\n",
       "      <td>38.867187</td>\n",
       "      <td>2</td>\n",
       "      <td>1320 GOOD HOPE ROAD SE</td>\n",
       "      <td>Helping Inner City Youth Succeed, Hicks</td>\n",
       "      <td>Untitled</td>\n",
       "      <td>Aerosol paint</td>\n",
       "      <td>2009</td>\n",
       "      <td>Mural</td>\n",
       "      <td>African Heritage Center for African Dance &amp; Mu...</td>\n",
       "      <td>1320b good hope road se</td>\n",
       "      <td>anacostia</td>\n",
       "      <td>1209 sq. ft.</td>\n",
       "      <td>8</td>\n",
       "      <td>Temporary</td>\n",
       "      <td>MuralsDC</td>\n",
       "      <td>NaN</td>\n",
       "    </tr>\n",
       "    <tr>\n",
       "      <th>2</th>\n",
       "      <td>-76.995284</td>\n",
       "      <td>38.879775</td>\n",
       "      <td>3</td>\n",
       "      <td>745 8TH STREET SE</td>\n",
       "      <td>Michael Hammond</td>\n",
       "      <td>Depiction of the House’s Go-go Band</td>\n",
       "      <td>Aerosol paint on concrete</td>\n",
       "      <td>2011</td>\n",
       "      <td>Mural</td>\n",
       "      <td>Sasha Bruce House, mural located on front of b...</td>\n",
       "      <td>745 8th street se</td>\n",
       "      <td>capitol hill</td>\n",
       "      <td>140 sq. feet</td>\n",
       "      <td>6</td>\n",
       "      <td>Permanent</td>\n",
       "      <td>Commissioned Project</td>\n",
       "      <td>NaN</td>\n",
       "    </tr>\n",
       "    <tr>\n",
       "      <th>3</th>\n",
       "      <td>-77.001522</td>\n",
       "      <td>38.957041</td>\n",
       "      <td>4</td>\n",
       "      <td>320 RIGGS ROAD NE</td>\n",
       "      <td>Joel Bergner and Rashad Cuffee</td>\n",
       "      <td>Life Makes Music</td>\n",
       "      <td>Aerosol paint</td>\n",
       "      <td>2008</td>\n",
       "      <td>Mural</td>\n",
       "      <td>Off the intersection at South Dakota Ave NE &amp; ...</td>\n",
       "      <td>357 riggs road ne</td>\n",
       "      <td>petworth</td>\n",
       "      <td>NaN</td>\n",
       "      <td>4</td>\n",
       "      <td>Temporary</td>\n",
       "      <td>Neighborhood Projects</td>\n",
       "      <td>NaN</td>\n",
       "    </tr>\n",
       "    <tr>\n",
       "      <th>4</th>\n",
       "      <td>-77.016780</td>\n",
       "      <td>38.974892</td>\n",
       "      <td>5</td>\n",
       "      <td>314 CARROLL STREET NW</td>\n",
       "      <td>Words, Beats and Life</td>\n",
       "      <td>Takoma Green</td>\n",
       "      <td>Aerosol paint</td>\n",
       "      <td>2009</td>\n",
       "      <td>Mural</td>\n",
       "      <td>Elevation 314, mural is located behind 314 Car...</td>\n",
       "      <td>314 carroll street nw</td>\n",
       "      <td>takoma</td>\n",
       "      <td>150 x 10'</td>\n",
       "      <td>4</td>\n",
       "      <td>Temporary</td>\n",
       "      <td>Neighborhood Projects</td>\n",
       "      <td>NaN</td>\n",
       "    </tr>\n",
       "  </tbody>\n",
       "</table>\n",
       "</div>"
      ],
      "text/plain": [
       "           X          Y  OBJECTID                 ADDRESS  \\\n",
       "0 -77.023515  38.914256         1         813 S STREET NW   \n",
       "1 -76.986446  38.867187         2  1320 GOOD HOPE ROAD SE   \n",
       "2 -76.995284  38.879775         3       745 8TH STREET SE   \n",
       "3 -77.001522  38.957041         4       320 RIGGS ROAD NE   \n",
       "4 -77.016780  38.974892         5   314 CARROLL STREET NW   \n",
       "\n",
       "                                    ARTIST  \\\n",
       "0                           Richard Colman   \n",
       "1  Helping Inner City Youth Succeed, Hicks   \n",
       "2                          Michael Hammond   \n",
       "3           Joel Bergner and Rashad Cuffee   \n",
       "4                    Words, Beats and Life   \n",
       "\n",
       "                                 TITLE                     MEDIUM  YEAR  \\\n",
       "0                         Checker Club              Aerosol paint  2011   \n",
       "1                             Untitled              Aerosol paint  2009   \n",
       "2  Depiction of the House’s Go-go Band  Aerosol paint on concrete  2011   \n",
       "3                     Life Makes Music              Aerosol paint  2008   \n",
       "4                         Takoma Green              Aerosol paint  2009   \n",
       "\n",
       "  ART_TYPE                                            DISPLAY  \\\n",
       "0    Mural  Capitol Pool Checkers Club, located at back of...   \n",
       "1    Mural  African Heritage Center for African Dance & Mu...   \n",
       "2    Mural  Sasha Bruce House, mural located on front of b...   \n",
       "3    Mural  Off the intersection at South Dakota Ave NE & ...   \n",
       "4    Mural  Elevation 314, mural is located behind 314 Car...   \n",
       "\n",
       "                  LOCATION  NEIGHBORHOOD         SIZE_  WARD   DURATION  \\\n",
       "0          813 s street nw          shaw           NaN     1  Temporary   \n",
       "1  1320b good hope road se     anacostia  1209 sq. ft.     8  Temporary   \n",
       "2        745 8th street se  capitol hill  140 sq. feet     6  Permanent   \n",
       "3        357 riggs road ne      petworth           NaN     4  Temporary   \n",
       "4    314 carroll street nw        takoma     150 x 10'     4  Temporary   \n",
       "\n",
       "          PROGRAM_SOURCE ARTWORK  \n",
       "0               MuralsDC     NaN  \n",
       "1               MuralsDC     NaN  \n",
       "2   Commissioned Project     NaN  \n",
       "3  Neighborhood Projects     NaN  \n",
       "4  Neighborhood Projects     NaN  "
      ]
     },
     "execution_count": 3,
     "metadata": {},
     "output_type": "execute_result"
    }
   ],
   "source": [
    "df.head() #this command let's us see the first 5 rows of data\n",
    "#it's good practice to run this right at the beginning to double-check everything looks as we expect it to"
   ]
  },
  {
   "cell_type": "code",
   "execution_count": 4,
   "metadata": {},
   "outputs": [
    {
     "data": {
      "text/html": [
       "<div>\n",
       "<style>\n",
       "    .dataframe thead tr:only-child th {\n",
       "        text-align: right;\n",
       "    }\n",
       "\n",
       "    .dataframe thead th {\n",
       "        text-align: left;\n",
       "    }\n",
       "\n",
       "    .dataframe tbody tr th {\n",
       "        vertical-align: top;\n",
       "    }\n",
       "</style>\n",
       "<table border=\"1\" class=\"dataframe\">\n",
       "  <thead>\n",
       "    <tr style=\"text-align: right;\">\n",
       "      <th></th>\n",
       "      <th>X</th>\n",
       "      <th>Y</th>\n",
       "      <th>OBJECTID</th>\n",
       "      <th>ADDRESS</th>\n",
       "      <th>ARTIST</th>\n",
       "      <th>TITLE</th>\n",
       "      <th>MEDIUM</th>\n",
       "      <th>YEAR</th>\n",
       "      <th>ART_TYPE</th>\n",
       "      <th>DISPLAY</th>\n",
       "      <th>LOCATION</th>\n",
       "      <th>NEIGHBORHOOD</th>\n",
       "      <th>SIZE_</th>\n",
       "      <th>WARD</th>\n",
       "      <th>DURATION</th>\n",
       "      <th>PROGRAM_SOURCE</th>\n",
       "      <th>ARTWORK</th>\n",
       "    </tr>\n",
       "  </thead>\n",
       "  <tbody>\n",
       "    <tr>\n",
       "      <th>262</th>\n",
       "      <td>-77.001098</td>\n",
       "      <td>38.873324</td>\n",
       "      <td>263</td>\n",
       "      <td>10 WATER STREET (East Lawn)</td>\n",
       "      <td>Tattfoo Tan</td>\n",
       "      <td>S.O.S. p:ARK</td>\n",
       "      <td>Plants: St Johnwort, dandelions, timothy, clov...</td>\n",
       "      <td>2012</td>\n",
       "      <td>Earth work</td>\n",
       "      <td>Yards Park</td>\n",
       "      <td>10 Water Street SE (East Lawn)</td>\n",
       "      <td>Navy Yard</td>\n",
       "      <td>NaN</td>\n",
       "      <td>6</td>\n",
       "      <td>Temporary</td>\n",
       "      <td>2012- 5x5 Temporary Art Initiative</td>\n",
       "      <td>http://octo.dc.gov/sites/default/files/dc/site...</td>\n",
       "    </tr>\n",
       "    <tr>\n",
       "      <th>263</th>\n",
       "      <td>-77.027564</td>\n",
       "      <td>38.894107</td>\n",
       "      <td>264</td>\n",
       "      <td>1100 PENNSYLVANIA AVENUE NW</td>\n",
       "      <td>Wilmer Wilson IV</td>\n",
       "      <td>Henry 'Box' Brown: FOREVER</td>\n",
       "      <td>Performance, three grades of postage stamps</td>\n",
       "      <td>2012</td>\n",
       "      <td>Performance</td>\n",
       "      <td>Old Post Office Pavilion</td>\n",
       "      <td>1100 Pennsylvania Avenue NW</td>\n",
       "      <td>Downtown</td>\n",
       "      <td>NaN</td>\n",
       "      <td>2</td>\n",
       "      <td>Temporary</td>\n",
       "      <td>2012- 5x5 Temporary Art Initiative</td>\n",
       "      <td>http://octo.dc.gov/sites/default/files/dc/site...</td>\n",
       "    </tr>\n",
       "    <tr>\n",
       "      <th>264</th>\n",
       "      <td>-77.024769</td>\n",
       "      <td>38.898699</td>\n",
       "      <td>265</td>\n",
       "      <td>901 G STREET NW</td>\n",
       "      <td>Lize Mogel</td>\n",
       "      <td>Sight Lines</td>\n",
       "      <td>Self guided tour maps</td>\n",
       "      <td>2012</td>\n",
       "      <td>Tour</td>\n",
       "      <td>Martin Luther King Jr Memorial Library</td>\n",
       "      <td>901 G Street NW</td>\n",
       "      <td>Downtown</td>\n",
       "      <td>NaN</td>\n",
       "      <td>2</td>\n",
       "      <td>Temporary</td>\n",
       "      <td>2012- 5x5 Temporary Art Initiative</td>\n",
       "      <td>http://octo.dc.gov/sites/default/files/dc/site...</td>\n",
       "    </tr>\n",
       "    <tr>\n",
       "      <th>265</th>\n",
       "      <td>-76.941819</td>\n",
       "      <td>38.912634</td>\n",
       "      <td>266</td>\n",
       "      <td>1550 ANACOSTIA AVENUE NE</td>\n",
       "      <td>Mia Feuer</td>\n",
       "      <td>The Flooded Lecture Series</td>\n",
       "      <td>Lecture, panel discussion</td>\n",
       "      <td>2014</td>\n",
       "      <td>Lecture</td>\n",
       "      <td>NaN</td>\n",
       "      <td>Kenilworth Park, Anacostia River</td>\n",
       "      <td>Kenilworth</td>\n",
       "      <td>NaN</td>\n",
       "      <td>7</td>\n",
       "      <td>Temporary</td>\n",
       "      <td>2014- 5x5 Temporary Art Initiative</td>\n",
       "      <td>http://octo.dc.gov/sites/default/files/dc/site...</td>\n",
       "    </tr>\n",
       "    <tr>\n",
       "      <th>266</th>\n",
       "      <td>-76.932158</td>\n",
       "      <td>38.908452</td>\n",
       "      <td>267</td>\n",
       "      <td>1350 49TH STREET NE</td>\n",
       "      <td>Lize Mogel</td>\n",
       "      <td>Sight Lines</td>\n",
       "      <td>Self guided tour maps</td>\n",
       "      <td>2012</td>\n",
       "      <td>Tour</td>\n",
       "      <td>Deadwood Neighborhood Library</td>\n",
       "      <td>Deadwood Neighborhood Library</td>\n",
       "      <td>Deanwood</td>\n",
       "      <td>NaN</td>\n",
       "      <td>7</td>\n",
       "      <td>Temporary</td>\n",
       "      <td>2012- 5x5 Temporary Art Initiative</td>\n",
       "      <td>http://octo.dc.gov/sites/default/files/dc/site...</td>\n",
       "    </tr>\n",
       "    <tr>\n",
       "      <th>267</th>\n",
       "      <td>-77.039743</td>\n",
       "      <td>38.895854</td>\n",
       "      <td>268</td>\n",
       "      <td>500 17TH STREET NW</td>\n",
       "      <td>Floating Lab Collective</td>\n",
       "      <td>Remuseum</td>\n",
       "      <td>Lecture, panel discussion</td>\n",
       "      <td>2012</td>\n",
       "      <td>Lecture</td>\n",
       "      <td>Corcoran Gallery of Art</td>\n",
       "      <td>500 17th Street NW</td>\n",
       "      <td>Downtown</td>\n",
       "      <td>NaN</td>\n",
       "      <td>2</td>\n",
       "      <td>Temporary</td>\n",
       "      <td>2012- 5x5 Temporary Art Initiative</td>\n",
       "      <td>http://octo.dc.gov/sites/default/files/dc/site...</td>\n",
       "    </tr>\n",
       "    <tr>\n",
       "      <th>268</th>\n",
       "      <td>-77.000970</td>\n",
       "      <td>38.947387</td>\n",
       "      <td>269</td>\n",
       "      <td>4900 JOHN MCCORMACK DR NE</td>\n",
       "      <td>Coby Kennedy</td>\n",
       "      <td>Untitled</td>\n",
       "      <td>Aerosol paint</td>\n",
       "      <td>2011</td>\n",
       "      <td>Mural</td>\n",
       "      <td>Department of Pulbic Works, wall along Ft. Tot...</td>\n",
       "      <td>4900 John MCcormack Dr NE</td>\n",
       "      <td>Fort Totten</td>\n",
       "      <td>NaN</td>\n",
       "      <td>5</td>\n",
       "      <td>Temporary</td>\n",
       "      <td>MuralsDC</td>\n",
       "      <td>NaN</td>\n",
       "    </tr>\n",
       "    <tr>\n",
       "      <th>269</th>\n",
       "      <td>-77.005888</td>\n",
       "      <td>38.906849</td>\n",
       "      <td>270</td>\n",
       "      <td>1ST STREET NE FROM N STREET NE TO PATTERSON ST...</td>\n",
       "      <td>Dignidad Rebelde</td>\n",
       "      <td>Looking Back, Seeing Forward</td>\n",
       "      <td>Paint, prints</td>\n",
       "      <td>2014</td>\n",
       "      <td>Mural</td>\n",
       "      <td>Installed on a separation wall</td>\n",
       "      <td>1ST Street NE From N Street NE To Patterson St...</td>\n",
       "      <td>NoMa</td>\n",
       "      <td>NaN</td>\n",
       "      <td>6</td>\n",
       "      <td>Temporary</td>\n",
       "      <td>2012- 5x5 Temporary Art Initiative</td>\n",
       "      <td>http://octo.dc.gov/sites/default/files/dc/site...</td>\n",
       "    </tr>\n",
       "    <tr>\n",
       "      <th>270</th>\n",
       "      <td>-77.022221</td>\n",
       "      <td>38.912450</td>\n",
       "      <td>271</td>\n",
       "      <td>1630 7TH STREET NW</td>\n",
       "      <td>Lize Mogel</td>\n",
       "      <td>Sight Lines</td>\n",
       "      <td>Self guided tour maps</td>\n",
       "      <td>2012</td>\n",
       "      <td>Tour</td>\n",
       "      <td>Watha T. Daniel / Shaw Neighborhood Library</td>\n",
       "      <td>1630 7th St NW</td>\n",
       "      <td>Logan Circle/Shaw</td>\n",
       "      <td>NaN</td>\n",
       "      <td>6</td>\n",
       "      <td>Temporary</td>\n",
       "      <td>2012- 5x5 Temporary Art Initiative</td>\n",
       "      <td>http://octo.dc.gov/sites/default/files/dc/site...</td>\n",
       "    </tr>\n",
       "    <tr>\n",
       "      <th>271</th>\n",
       "      <td>-77.022942</td>\n",
       "      <td>38.899143</td>\n",
       "      <td>272</td>\n",
       "      <td>8TH STREET NW FROM G STREET NW TO H STREET NW</td>\n",
       "      <td>Floating Lab Collective</td>\n",
       "      <td>Remuseum</td>\n",
       "      <td>Lecture, panel discussion</td>\n",
       "      <td>2012</td>\n",
       "      <td>Lecture</td>\n",
       "      <td>Pepco Edison Place Gallery</td>\n",
       "      <td>8TH Street NW From G Street NW To H Street NW</td>\n",
       "      <td>Chinatown</td>\n",
       "      <td>NaN</td>\n",
       "      <td>2</td>\n",
       "      <td>Temporary</td>\n",
       "      <td>2012- 5x5 Temporary Art Initiative</td>\n",
       "      <td>http://octo.dc.gov/sites/default/files/dc/site...</td>\n",
       "    </tr>\n",
       "  </tbody>\n",
       "</table>\n",
       "</div>"
      ],
      "text/plain": [
       "             X          Y  OBJECTID  \\\n",
       "262 -77.001098  38.873324       263   \n",
       "263 -77.027564  38.894107       264   \n",
       "264 -77.024769  38.898699       265   \n",
       "265 -76.941819  38.912634       266   \n",
       "266 -76.932158  38.908452       267   \n",
       "267 -77.039743  38.895854       268   \n",
       "268 -77.000970  38.947387       269   \n",
       "269 -77.005888  38.906849       270   \n",
       "270 -77.022221  38.912450       271   \n",
       "271 -77.022942  38.899143       272   \n",
       "\n",
       "                                               ADDRESS  \\\n",
       "262                        10 WATER STREET (East Lawn)   \n",
       "263                        1100 PENNSYLVANIA AVENUE NW   \n",
       "264                                    901 G STREET NW   \n",
       "265                           1550 ANACOSTIA AVENUE NE   \n",
       "266                                1350 49TH STREET NE   \n",
       "267                                 500 17TH STREET NW   \n",
       "268                          4900 JOHN MCCORMACK DR NE   \n",
       "269  1ST STREET NE FROM N STREET NE TO PATTERSON ST...   \n",
       "270                                 1630 7TH STREET NW   \n",
       "271      8TH STREET NW FROM G STREET NW TO H STREET NW   \n",
       "\n",
       "                      ARTIST                         TITLE  \\\n",
       "262              Tattfoo Tan                  S.O.S. p:ARK   \n",
       "263         Wilmer Wilson IV    Henry 'Box' Brown: FOREVER   \n",
       "264               Lize Mogel                 Sight Lines     \n",
       "265                Mia Feuer    The Flooded Lecture Series   \n",
       "266               Lize Mogel                 Sight Lines     \n",
       "267  Floating Lab Collective                      Remuseum   \n",
       "268             Coby Kennedy                      Untitled   \n",
       "269         Dignidad Rebelde  Looking Back, Seeing Forward   \n",
       "270               Lize Mogel                 Sight Lines     \n",
       "271  Floating Lab Collective                      Remuseum   \n",
       "\n",
       "                                                MEDIUM  YEAR     ART_TYPE  \\\n",
       "262  Plants: St Johnwort, dandelions, timothy, clov...  2012   Earth work   \n",
       "263        Performance, three grades of postage stamps  2012  Performance   \n",
       "264                              Self guided tour maps  2012         Tour   \n",
       "265                          Lecture, panel discussion  2014      Lecture   \n",
       "266                              Self guided tour maps  2012         Tour   \n",
       "267                          Lecture, panel discussion  2012      Lecture   \n",
       "268                                      Aerosol paint  2011        Mural   \n",
       "269                                      Paint, prints  2014        Mural   \n",
       "270                              Self guided tour maps  2012         Tour   \n",
       "271                          Lecture, panel discussion  2012      Lecture   \n",
       "\n",
       "                                               DISPLAY  \\\n",
       "262                                         Yards Park   \n",
       "263                           Old Post Office Pavilion   \n",
       "264             Martin Luther King Jr Memorial Library   \n",
       "265                                                NaN   \n",
       "266                      Deadwood Neighborhood Library   \n",
       "267                            Corcoran Gallery of Art   \n",
       "268  Department of Pulbic Works, wall along Ft. Tot...   \n",
       "269                     Installed on a separation wall   \n",
       "270        Watha T. Daniel / Shaw Neighborhood Library   \n",
       "271                         Pepco Edison Place Gallery   \n",
       "\n",
       "                                              LOCATION       NEIGHBORHOOD  \\\n",
       "262                     10 Water Street SE (East Lawn)          Navy Yard   \n",
       "263                        1100 Pennsylvania Avenue NW           Downtown   \n",
       "264                                    901 G Street NW           Downtown   \n",
       "265                   Kenilworth Park, Anacostia River         Kenilworth   \n",
       "266                      Deadwood Neighborhood Library           Deanwood   \n",
       "267                                 500 17th Street NW           Downtown   \n",
       "268                          4900 John MCcormack Dr NE        Fort Totten   \n",
       "269  1ST Street NE From N Street NE To Patterson St...               NoMa   \n",
       "270                                     1630 7th St NW  Logan Circle/Shaw   \n",
       "271      8TH Street NW From G Street NW To H Street NW          Chinatown   \n",
       "\n",
       "    SIZE_  WARD   DURATION                      PROGRAM_SOURCE  \\\n",
       "262   NaN     6  Temporary  2012- 5x5 Temporary Art Initiative   \n",
       "263   NaN     2  Temporary  2012- 5x5 Temporary Art Initiative   \n",
       "264   NaN     2  Temporary  2012- 5x5 Temporary Art Initiative   \n",
       "265   NaN     7  Temporary  2014- 5x5 Temporary Art Initiative   \n",
       "266   NaN     7  Temporary  2012- 5x5 Temporary Art Initiative   \n",
       "267   NaN     2  Temporary  2012- 5x5 Temporary Art Initiative   \n",
       "268   NaN     5  Temporary                            MuralsDC   \n",
       "269   NaN     6  Temporary  2012- 5x5 Temporary Art Initiative   \n",
       "270   NaN     6  Temporary  2012- 5x5 Temporary Art Initiative   \n",
       "271   NaN     2  Temporary  2012- 5x5 Temporary Art Initiative   \n",
       "\n",
       "                                               ARTWORK  \n",
       "262  http://octo.dc.gov/sites/default/files/dc/site...  \n",
       "263  http://octo.dc.gov/sites/default/files/dc/site...  \n",
       "264  http://octo.dc.gov/sites/default/files/dc/site...  \n",
       "265  http://octo.dc.gov/sites/default/files/dc/site...  \n",
       "266  http://octo.dc.gov/sites/default/files/dc/site...  \n",
       "267  http://octo.dc.gov/sites/default/files/dc/site...  \n",
       "268                                                NaN  \n",
       "269  http://octo.dc.gov/sites/default/files/dc/site...  \n",
       "270  http://octo.dc.gov/sites/default/files/dc/site...  \n",
       "271  http://octo.dc.gov/sites/default/files/dc/site...  "
      ]
     },
     "execution_count": 4,
     "metadata": {},
     "output_type": "execute_result"
    }
   ],
   "source": [
    "df.tail(10) #this lets us see the last 10 rows -- 5 is the default but you can specify a number in the parentheses and pull a specific number"
   ]
  },
  {
   "cell_type": "code",
   "execution_count": 5,
   "metadata": {},
   "outputs": [
    {
     "data": {
      "text/plain": [
       "Index(['X', 'Y', 'OBJECTID', 'ADDRESS', 'ARTIST', 'TITLE', 'MEDIUM', 'YEAR',\n",
       "       'ART_TYPE', 'DISPLAY', 'LOCATION', 'NEIGHBORHOOD', 'SIZE_', 'WARD',\n",
       "       'DURATION', 'PROGRAM_SOURCE', 'ARTWORK'],\n",
       "      dtype='object')"
      ]
     },
     "execution_count": 5,
     "metadata": {},
     "output_type": "execute_result"
    }
   ],
   "source": [
    "#we can take a look at what each column is without having to scroll\n",
    "df.columns"
   ]
  },
  {
   "cell_type": "code",
   "execution_count": 6,
   "metadata": {},
   "outputs": [],
   "source": [
    "#to drop a column we don't need. \n",
    "df = df.drop('OBJECTID', axis=1)"
   ]
  },
  {
   "cell_type": "code",
   "execution_count": 7,
   "metadata": {},
   "outputs": [
    {
     "data": {
      "text/html": [
       "<div>\n",
       "<style>\n",
       "    .dataframe thead tr:only-child th {\n",
       "        text-align: right;\n",
       "    }\n",
       "\n",
       "    .dataframe thead th {\n",
       "        text-align: left;\n",
       "    }\n",
       "\n",
       "    .dataframe tbody tr th {\n",
       "        vertical-align: top;\n",
       "    }\n",
       "</style>\n",
       "<table border=\"1\" class=\"dataframe\">\n",
       "  <thead>\n",
       "    <tr style=\"text-align: right;\">\n",
       "      <th></th>\n",
       "      <th>X</th>\n",
       "      <th>Y</th>\n",
       "      <th>ADDRESS</th>\n",
       "      <th>ARTIST</th>\n",
       "      <th>TITLE</th>\n",
       "      <th>MEDIUM</th>\n",
       "      <th>YEAR</th>\n",
       "      <th>ART_TYPE</th>\n",
       "      <th>DISPLAY</th>\n",
       "      <th>LOCATION</th>\n",
       "      <th>NEIGHBORHOOD</th>\n",
       "      <th>SIZE_</th>\n",
       "      <th>WARD</th>\n",
       "      <th>DURATION</th>\n",
       "      <th>PROGRAM_SOURCE</th>\n",
       "      <th>ARTWORK</th>\n",
       "    </tr>\n",
       "  </thead>\n",
       "  <tbody>\n",
       "    <tr>\n",
       "      <th>0</th>\n",
       "      <td>-77.023515</td>\n",
       "      <td>38.914256</td>\n",
       "      <td>813 S STREET NW</td>\n",
       "      <td>Richard Colman</td>\n",
       "      <td>Checker Club</td>\n",
       "      <td>Aerosol paint</td>\n",
       "      <td>2011</td>\n",
       "      <td>Mural</td>\n",
       "      <td>Capitol Pool Checkers Club, located at back of...</td>\n",
       "      <td>813 s street nw</td>\n",
       "      <td>shaw</td>\n",
       "      <td>NaN</td>\n",
       "      <td>1</td>\n",
       "      <td>Temporary</td>\n",
       "      <td>MuralsDC</td>\n",
       "      <td>NaN</td>\n",
       "    </tr>\n",
       "    <tr>\n",
       "      <th>1</th>\n",
       "      <td>-76.986446</td>\n",
       "      <td>38.867187</td>\n",
       "      <td>1320 GOOD HOPE ROAD SE</td>\n",
       "      <td>Helping Inner City Youth Succeed, Hicks</td>\n",
       "      <td>Untitled</td>\n",
       "      <td>Aerosol paint</td>\n",
       "      <td>2009</td>\n",
       "      <td>Mural</td>\n",
       "      <td>African Heritage Center for African Dance &amp; Mu...</td>\n",
       "      <td>1320b good hope road se</td>\n",
       "      <td>anacostia</td>\n",
       "      <td>1209 sq. ft.</td>\n",
       "      <td>8</td>\n",
       "      <td>Temporary</td>\n",
       "      <td>MuralsDC</td>\n",
       "      <td>NaN</td>\n",
       "    </tr>\n",
       "    <tr>\n",
       "      <th>2</th>\n",
       "      <td>-76.995284</td>\n",
       "      <td>38.879775</td>\n",
       "      <td>745 8TH STREET SE</td>\n",
       "      <td>Michael Hammond</td>\n",
       "      <td>Depiction of the House’s Go-go Band</td>\n",
       "      <td>Aerosol paint on concrete</td>\n",
       "      <td>2011</td>\n",
       "      <td>Mural</td>\n",
       "      <td>Sasha Bruce House, mural located on front of b...</td>\n",
       "      <td>745 8th street se</td>\n",
       "      <td>capitol hill</td>\n",
       "      <td>140 sq. feet</td>\n",
       "      <td>6</td>\n",
       "      <td>Permanent</td>\n",
       "      <td>Commissioned Project</td>\n",
       "      <td>NaN</td>\n",
       "    </tr>\n",
       "    <tr>\n",
       "      <th>3</th>\n",
       "      <td>-77.001522</td>\n",
       "      <td>38.957041</td>\n",
       "      <td>320 RIGGS ROAD NE</td>\n",
       "      <td>Joel Bergner and Rashad Cuffee</td>\n",
       "      <td>Life Makes Music</td>\n",
       "      <td>Aerosol paint</td>\n",
       "      <td>2008</td>\n",
       "      <td>Mural</td>\n",
       "      <td>Off the intersection at South Dakota Ave NE &amp; ...</td>\n",
       "      <td>357 riggs road ne</td>\n",
       "      <td>petworth</td>\n",
       "      <td>NaN</td>\n",
       "      <td>4</td>\n",
       "      <td>Temporary</td>\n",
       "      <td>Neighborhood Projects</td>\n",
       "      <td>NaN</td>\n",
       "    </tr>\n",
       "    <tr>\n",
       "      <th>4</th>\n",
       "      <td>-77.016780</td>\n",
       "      <td>38.974892</td>\n",
       "      <td>314 CARROLL STREET NW</td>\n",
       "      <td>Words, Beats and Life</td>\n",
       "      <td>Takoma Green</td>\n",
       "      <td>Aerosol paint</td>\n",
       "      <td>2009</td>\n",
       "      <td>Mural</td>\n",
       "      <td>Elevation 314, mural is located behind 314 Car...</td>\n",
       "      <td>314 carroll street nw</td>\n",
       "      <td>takoma</td>\n",
       "      <td>150 x 10'</td>\n",
       "      <td>4</td>\n",
       "      <td>Temporary</td>\n",
       "      <td>Neighborhood Projects</td>\n",
       "      <td>NaN</td>\n",
       "    </tr>\n",
       "  </tbody>\n",
       "</table>\n",
       "</div>"
      ],
      "text/plain": [
       "           X          Y                 ADDRESS  \\\n",
       "0 -77.023515  38.914256         813 S STREET NW   \n",
       "1 -76.986446  38.867187  1320 GOOD HOPE ROAD SE   \n",
       "2 -76.995284  38.879775       745 8TH STREET SE   \n",
       "3 -77.001522  38.957041       320 RIGGS ROAD NE   \n",
       "4 -77.016780  38.974892   314 CARROLL STREET NW   \n",
       "\n",
       "                                    ARTIST  \\\n",
       "0                           Richard Colman   \n",
       "1  Helping Inner City Youth Succeed, Hicks   \n",
       "2                          Michael Hammond   \n",
       "3           Joel Bergner and Rashad Cuffee   \n",
       "4                    Words, Beats and Life   \n",
       "\n",
       "                                 TITLE                     MEDIUM  YEAR  \\\n",
       "0                         Checker Club              Aerosol paint  2011   \n",
       "1                             Untitled              Aerosol paint  2009   \n",
       "2  Depiction of the House’s Go-go Band  Aerosol paint on concrete  2011   \n",
       "3                     Life Makes Music              Aerosol paint  2008   \n",
       "4                         Takoma Green              Aerosol paint  2009   \n",
       "\n",
       "  ART_TYPE                                            DISPLAY  \\\n",
       "0    Mural  Capitol Pool Checkers Club, located at back of...   \n",
       "1    Mural  African Heritage Center for African Dance & Mu...   \n",
       "2    Mural  Sasha Bruce House, mural located on front of b...   \n",
       "3    Mural  Off the intersection at South Dakota Ave NE & ...   \n",
       "4    Mural  Elevation 314, mural is located behind 314 Car...   \n",
       "\n",
       "                  LOCATION  NEIGHBORHOOD         SIZE_  WARD   DURATION  \\\n",
       "0          813 s street nw          shaw           NaN     1  Temporary   \n",
       "1  1320b good hope road se     anacostia  1209 sq. ft.     8  Temporary   \n",
       "2        745 8th street se  capitol hill  140 sq. feet     6  Permanent   \n",
       "3        357 riggs road ne      petworth           NaN     4  Temporary   \n",
       "4    314 carroll street nw        takoma     150 x 10'     4  Temporary   \n",
       "\n",
       "          PROGRAM_SOURCE ARTWORK  \n",
       "0               MuralsDC     NaN  \n",
       "1               MuralsDC     NaN  \n",
       "2   Commissioned Project     NaN  \n",
       "3  Neighborhood Projects     NaN  \n",
       "4  Neighborhood Projects     NaN  "
      ]
     },
     "execution_count": 7,
     "metadata": {},
     "output_type": "execute_result"
    }
   ],
   "source": [
    "df.head()"
   ]
  },
  {
   "cell_type": "code",
   "execution_count": 8,
   "metadata": {},
   "outputs": [
    {
     "name": "stdout",
     "output_type": "stream",
     "text": [
      "(272, 16)\n"
     ]
    },
    {
     "data": {
      "text/plain": [
       "X                   0\n",
       "Y                   0\n",
       "ADDRESS             0\n",
       "ARTIST              3\n",
       "TITLE               1\n",
       "MEDIUM              3\n",
       "YEAR                1\n",
       "ART_TYPE            1\n",
       "DISPLAY             5\n",
       "LOCATION            0\n",
       "NEIGHBORHOOD        0\n",
       "SIZE_             146\n",
       "WARD                0\n",
       "DURATION            0\n",
       "PROGRAM_SOURCE      0\n",
       "ARTWORK           176\n",
       "dtype: int64"
      ]
     },
     "execution_count": 8,
     "metadata": {},
     "output_type": "execute_result"
    }
   ],
   "source": [
    "#check how many total rows and columns we have\n",
    "print (df.shape)\n",
    "#and how many of those rows are missing values\n",
    "df.isnull().sum()"
   ]
  },
  {
   "cell_type": "code",
   "execution_count": 9,
   "metadata": {},
   "outputs": [
    {
     "data": {
      "text/plain": [
       "X                 float64\n",
       "Y                 float64\n",
       "ADDRESS            object\n",
       "ARTIST             object\n",
       "TITLE              object\n",
       "MEDIUM             object\n",
       "YEAR               object\n",
       "ART_TYPE           object\n",
       "DISPLAY            object\n",
       "LOCATION           object\n",
       "NEIGHBORHOOD       object\n",
       "SIZE_              object\n",
       "WARD                int64\n",
       "DURATION           object\n",
       "PROGRAM_SOURCE     object\n",
       "ARTWORK            object\n",
       "dtype: object"
      ]
     },
     "execution_count": 9,
     "metadata": {},
     "output_type": "execute_result"
    }
   ],
   "source": [
    "#and check the data type of each column\n",
    "df.dtypes\n",
    "#floats are numbers with fractional parts/decimals (3.14, for example)\n",
    "#ints are whole numbers (3)\n",
    "#objects in pandas usually mean this is a string (characters)"
   ]
  },
  {
   "cell_type": "code",
   "execution_count": 10,
   "metadata": {},
   "outputs": [
    {
     "name": "stdout",
     "output_type": "stream",
     "text": [
      "X\n",
      "223\n",
      "Y\n",
      "223\n",
      "ADDRESS\n",
      "221\n",
      "ARTIST\n",
      "169\n",
      "TITLE\n",
      "213\n",
      "MEDIUM\n",
      "145\n",
      "YEAR\n",
      "26\n",
      "ART_TYPE\n",
      "42\n",
      "DISPLAY\n",
      "233\n",
      "LOCATION\n",
      "228\n",
      "NEIGHBORHOOD\n",
      "99\n",
      "SIZE_\n",
      "121\n",
      "WARD\n",
      "8\n",
      "DURATION\n",
      "2\n",
      "PROGRAM_SOURCE\n",
      "16\n",
      "ARTWORK\n",
      "52\n"
     ]
    }
   ],
   "source": [
    "#we can also check how many unique items there are in a pandas series/column\n",
    "for item in df:\n",
    "    print (item)\n",
    "    print (df[item].nunique())"
   ]
  },
  {
   "cell_type": "code",
   "execution_count": 11,
   "metadata": {},
   "outputs": [
    {
     "data": {
      "text/plain": [
       "shaw                    21\n",
       "Anacostia               13\n",
       "Southwest Waterfront    12\n",
       "columbia heights        10\n",
       "Downtown                 9\n",
       "anacostia                9\n",
       "old city                 8\n",
       "downtown                 8\n",
       "saint elizabeth's        7\n",
       "dupont circle            7\n",
       "Capitol Hill             6\n",
       "congress heights         6\n",
       "adams morgan             5\n",
       "mount vernon             4\n",
       "navy yard                4\n",
       "deanwood                 4\n",
       "southwest                4\n",
       "Cardozo/Shaw             4\n",
       "capitol hill             4\n",
       "takoma                   4\n",
       "Navy Yard                4\n",
       "atlas district           4\n",
       "petworth                 4\n",
       "Fort Totten              3\n",
       "Logan Circle/Shaw        3\n",
       "noma                     3\n",
       "Dupont Circle            3\n",
       "chinatown                3\n",
       "judiciary square         3\n",
       "Trinidad                 3\n",
       "                        ..\n",
       "Mt. Vernon Square        1\n",
       "Adams Morgan             1\n",
       "fort dupont              1\n",
       "Shipley                  1\n",
       "Brentwood                1\n",
       "penn quarter             1\n",
       "Shepherd Park            1\n",
       "north michigan park      1\n",
       "north lincoln park       1\n",
       "Judiciary Square         1\n",
       "lincoln heights          1\n",
       "fort davis               1\n",
       "Tenleytown               1\n",
       "Foxhall Crescents        1\n",
       "Chinatown                1\n",
       "eckington                1\n",
       "brookland                1\n",
       "burleith                 1\n",
       "Kolorama Heights         1\n",
       "Twining                  1\n",
       "West End                 1\n",
       "union station            1\n",
       "trinidad                 1\n",
       "washington highlands     1\n",
       "shepherd park            1\n",
       "langston                 1\n",
       "hillcrest                1\n",
       "Georgetown               1\n",
       "ledroit park             1\n",
       "Petworth                 1\n",
       "Name: NEIGHBORHOOD, Length: 99, dtype: int64"
      ]
     },
     "execution_count": 11,
     "metadata": {},
     "output_type": "execute_result"
    }
   ],
   "source": [
    "#and how many occurrences of each value there are in each series (pandas' terminology for column); useful for categorical or str objects\n",
    "df.NEIGHBORHOOD.value_counts()"
   ]
  },
  {
   "cell_type": "code",
   "execution_count": 12,
   "metadata": {},
   "outputs": [],
   "source": [
    "# typing everything in ALL CAPS is annoying, so let's convert all the column headings to lower case\n",
    "# save the column names as lower-case strings\n",
    "df.columns = df.columns.str.lower()"
   ]
  },
  {
   "cell_type": "code",
   "execution_count": 13,
   "metadata": {
    "scrolled": false
   },
   "outputs": [
    {
     "data": {
      "text/html": [
       "<div>\n",
       "<style>\n",
       "    .dataframe thead tr:only-child th {\n",
       "        text-align: right;\n",
       "    }\n",
       "\n",
       "    .dataframe thead th {\n",
       "        text-align: left;\n",
       "    }\n",
       "\n",
       "    .dataframe tbody tr th {\n",
       "        vertical-align: top;\n",
       "    }\n",
       "</style>\n",
       "<table border=\"1\" class=\"dataframe\">\n",
       "  <thead>\n",
       "    <tr style=\"text-align: right;\">\n",
       "      <th></th>\n",
       "      <th>x</th>\n",
       "      <th>y</th>\n",
       "      <th>address</th>\n",
       "      <th>artist</th>\n",
       "      <th>title</th>\n",
       "      <th>medium</th>\n",
       "      <th>year</th>\n",
       "      <th>art_type</th>\n",
       "      <th>display</th>\n",
       "      <th>location</th>\n",
       "      <th>neighborhood</th>\n",
       "      <th>size_</th>\n",
       "      <th>ward</th>\n",
       "      <th>duration</th>\n",
       "      <th>program_source</th>\n",
       "      <th>artwork</th>\n",
       "    </tr>\n",
       "  </thead>\n",
       "  <tbody>\n",
       "    <tr>\n",
       "      <th>0</th>\n",
       "      <td>-77.023515</td>\n",
       "      <td>38.914256</td>\n",
       "      <td>813 S STREET NW</td>\n",
       "      <td>Richard Colman</td>\n",
       "      <td>Checker Club</td>\n",
       "      <td>Aerosol paint</td>\n",
       "      <td>2011</td>\n",
       "      <td>Mural</td>\n",
       "      <td>Capitol Pool Checkers Club, located at back of...</td>\n",
       "      <td>813 s street nw</td>\n",
       "      <td>shaw</td>\n",
       "      <td>NaN</td>\n",
       "      <td>1</td>\n",
       "      <td>Temporary</td>\n",
       "      <td>MuralsDC</td>\n",
       "      <td>NaN</td>\n",
       "    </tr>\n",
       "    <tr>\n",
       "      <th>1</th>\n",
       "      <td>-76.986446</td>\n",
       "      <td>38.867187</td>\n",
       "      <td>1320 GOOD HOPE ROAD SE</td>\n",
       "      <td>Helping Inner City Youth Succeed, Hicks</td>\n",
       "      <td>Untitled</td>\n",
       "      <td>Aerosol paint</td>\n",
       "      <td>2009</td>\n",
       "      <td>Mural</td>\n",
       "      <td>African Heritage Center for African Dance &amp; Mu...</td>\n",
       "      <td>1320b good hope road se</td>\n",
       "      <td>anacostia</td>\n",
       "      <td>1209 sq. ft.</td>\n",
       "      <td>8</td>\n",
       "      <td>Temporary</td>\n",
       "      <td>MuralsDC</td>\n",
       "      <td>NaN</td>\n",
       "    </tr>\n",
       "  </tbody>\n",
       "</table>\n",
       "</div>"
      ],
      "text/plain": [
       "           x          y                 address  \\\n",
       "0 -77.023515  38.914256         813 S STREET NW   \n",
       "1 -76.986446  38.867187  1320 GOOD HOPE ROAD SE   \n",
       "\n",
       "                                    artist         title         medium  year  \\\n",
       "0                           Richard Colman  Checker Club  Aerosol paint  2011   \n",
       "1  Helping Inner City Youth Succeed, Hicks      Untitled  Aerosol paint  2009   \n",
       "\n",
       "  art_type                                            display  \\\n",
       "0    Mural  Capitol Pool Checkers Club, located at back of...   \n",
       "1    Mural  African Heritage Center for African Dance & Mu...   \n",
       "\n",
       "                  location neighborhood         size_  ward   duration  \\\n",
       "0          813 s street nw         shaw           NaN     1  Temporary   \n",
       "1  1320b good hope road se    anacostia  1209 sq. ft.     8  Temporary   \n",
       "\n",
       "  program_source artwork  \n",
       "0       MuralsDC     NaN  \n",
       "1       MuralsDC     NaN  "
      ]
     },
     "execution_count": 13,
     "metadata": {},
     "output_type": "execute_result"
    }
   ],
   "source": [
    "#double-check to see if we accomplished this\n",
    "df.head(2)"
   ]
  },
  {
   "cell_type": "code",
   "execution_count": 14,
   "metadata": {},
   "outputs": [],
   "source": [
    "#pandas can also be great for data cleaning. here i'm dropping 4 rows that i'd identified with mistakes in the years column/series\n",
    "df = df.drop(df.index[[154, 54, 149, 130]])"
   ]
  },
  {
   "cell_type": "code",
   "execution_count": 15,
   "metadata": {},
   "outputs": [
    {
     "ename": "TypeError",
     "evalue": "float() argument must be a string or a number, not 'SingleBlockManager'",
     "output_type": "error",
     "traceback": [
      "\u001b[0;31m---------------------------------------------------------------------------\u001b[0m",
      "\u001b[0;31mTypeError\u001b[0m                                 Traceback (most recent call last)",
      "\u001b[0;32m<ipython-input-15-3e18e307f534>\u001b[0m in \u001b[0;36m<module>\u001b[0;34m()\u001b[0m\n\u001b[1;32m      5\u001b[0m \u001b[0;34m\u001b[0m\u001b[0m\n\u001b[1;32m      6\u001b[0m \u001b[0;32mfor\u001b[0m \u001b[0mi\u001b[0m\u001b[0;34m,\u001b[0m \u001b[0mdff\u001b[0m \u001b[0;32min\u001b[0m \u001b[0mdf\u001b[0m\u001b[0;34m.\u001b[0m\u001b[0mgroupby\u001b[0m\u001b[0;34m(\u001b[0m\u001b[0;34m\"ward\"\u001b[0m\u001b[0;34m)\u001b[0m\u001b[0;34m:\u001b[0m \u001b[0;31m#we iterate through a filtered dataframe\u001b[0m\u001b[0;34m\u001b[0m\u001b[0m\n\u001b[0;32m----> 7\u001b[0;31m     plt.scatter(dff['x'], dff['y'], c=cmap(norm(dff['ward'])), #then say that we want a scatter plot of x against y with each ward as a colour\n\u001b[0m\u001b[1;32m      8\u001b[0m                 edgecolors='none', label=\"Ward {:g}\".format(i)) #and then we specify that our labels should say \"Ward + ward number\"\n\u001b[1;32m      9\u001b[0m \u001b[0;34m\u001b[0m\u001b[0m\n",
      "\u001b[0;32m~/anaconda3/lib/python3.6/site-packages/matplotlib/colors.py\u001b[0m in \u001b[0;36m__call__\u001b[0;34m(self, value, clip)\u001b[0m\n\u001b[1;32m    917\u001b[0m             \u001b[0mclip\u001b[0m \u001b[0;34m=\u001b[0m \u001b[0mself\u001b[0m\u001b[0;34m.\u001b[0m\u001b[0mclip\u001b[0m\u001b[0;34m\u001b[0m\u001b[0m\n\u001b[1;32m    918\u001b[0m \u001b[0;34m\u001b[0m\u001b[0m\n\u001b[0;32m--> 919\u001b[0;31m         \u001b[0mresult\u001b[0m\u001b[0;34m,\u001b[0m \u001b[0mis_scalar\u001b[0m \u001b[0;34m=\u001b[0m \u001b[0mself\u001b[0m\u001b[0;34m.\u001b[0m\u001b[0mprocess_value\u001b[0m\u001b[0;34m(\u001b[0m\u001b[0mvalue\u001b[0m\u001b[0;34m)\u001b[0m\u001b[0;34m\u001b[0m\u001b[0m\n\u001b[0m\u001b[1;32m    920\u001b[0m \u001b[0;34m\u001b[0m\u001b[0m\n\u001b[1;32m    921\u001b[0m         \u001b[0mself\u001b[0m\u001b[0;34m.\u001b[0m\u001b[0mautoscale_None\u001b[0m\u001b[0;34m(\u001b[0m\u001b[0mresult\u001b[0m\u001b[0;34m)\u001b[0m\u001b[0;34m\u001b[0m\u001b[0m\n",
      "\u001b[0;32m~/anaconda3/lib/python3.6/site-packages/matplotlib/colors.py\u001b[0m in \u001b[0;36mprocess_value\u001b[0;34m(value)\u001b[0m\n\u001b[1;32m    903\u001b[0m         \u001b[0mmask\u001b[0m \u001b[0;34m=\u001b[0m \u001b[0mnp\u001b[0m\u001b[0;34m.\u001b[0m\u001b[0mma\u001b[0m\u001b[0;34m.\u001b[0m\u001b[0mgetmask\u001b[0m\u001b[0;34m(\u001b[0m\u001b[0mvalue\u001b[0m\u001b[0;34m)\u001b[0m\u001b[0;34m\u001b[0m\u001b[0m\n\u001b[1;32m    904\u001b[0m         \u001b[0mdata\u001b[0m \u001b[0;34m=\u001b[0m \u001b[0mnp\u001b[0m\u001b[0;34m.\u001b[0m\u001b[0masarray\u001b[0m\u001b[0;34m(\u001b[0m\u001b[0mnp\u001b[0m\u001b[0;34m.\u001b[0m\u001b[0mma\u001b[0m\u001b[0;34m.\u001b[0m\u001b[0mgetdata\u001b[0m\u001b[0;34m(\u001b[0m\u001b[0mvalue\u001b[0m\u001b[0;34m)\u001b[0m\u001b[0;34m)\u001b[0m\u001b[0;34m\u001b[0m\u001b[0m\n\u001b[0;32m--> 905\u001b[0;31m         \u001b[0mresult\u001b[0m \u001b[0;34m=\u001b[0m \u001b[0mnp\u001b[0m\u001b[0;34m.\u001b[0m\u001b[0mma\u001b[0m\u001b[0;34m.\u001b[0m\u001b[0marray\u001b[0m\u001b[0;34m(\u001b[0m\u001b[0mdata\u001b[0m\u001b[0;34m,\u001b[0m \u001b[0mmask\u001b[0m\u001b[0;34m=\u001b[0m\u001b[0mmask\u001b[0m\u001b[0;34m,\u001b[0m \u001b[0mdtype\u001b[0m\u001b[0;34m=\u001b[0m\u001b[0mdtype\u001b[0m\u001b[0;34m,\u001b[0m \u001b[0mcopy\u001b[0m\u001b[0;34m=\u001b[0m\u001b[0;32mTrue\u001b[0m\u001b[0;34m)\u001b[0m\u001b[0;34m\u001b[0m\u001b[0m\n\u001b[0m\u001b[1;32m    906\u001b[0m         \u001b[0;32mreturn\u001b[0m \u001b[0mresult\u001b[0m\u001b[0;34m,\u001b[0m \u001b[0mis_scalar\u001b[0m\u001b[0;34m\u001b[0m\u001b[0m\n\u001b[1;32m    907\u001b[0m \u001b[0;34m\u001b[0m\u001b[0m\n",
      "\u001b[0;32m~/anaconda3/lib/python3.6/site-packages/numpy/ma/core.py\u001b[0m in \u001b[0;36marray\u001b[0;34m(data, dtype, copy, order, mask, fill_value, keep_mask, hard_mask, shrink, subok, ndmin)\u001b[0m\n\u001b[1;32m   6297\u001b[0m                        \u001b[0msubok\u001b[0m\u001b[0;34m=\u001b[0m\u001b[0msubok\u001b[0m\u001b[0;34m,\u001b[0m \u001b[0mkeep_mask\u001b[0m\u001b[0;34m=\u001b[0m\u001b[0mkeep_mask\u001b[0m\u001b[0;34m,\u001b[0m\u001b[0;34m\u001b[0m\u001b[0m\n\u001b[1;32m   6298\u001b[0m                        \u001b[0mhard_mask\u001b[0m\u001b[0;34m=\u001b[0m\u001b[0mhard_mask\u001b[0m\u001b[0;34m,\u001b[0m \u001b[0mfill_value\u001b[0m\u001b[0;34m=\u001b[0m\u001b[0mfill_value\u001b[0m\u001b[0;34m,\u001b[0m\u001b[0;34m\u001b[0m\u001b[0m\n\u001b[0;32m-> 6299\u001b[0;31m                        ndmin=ndmin, shrink=shrink, order=order)\n\u001b[0m\u001b[1;32m   6300\u001b[0m \u001b[0marray\u001b[0m\u001b[0;34m.\u001b[0m\u001b[0m__doc__\u001b[0m \u001b[0;34m=\u001b[0m \u001b[0mmasked_array\u001b[0m\u001b[0;34m.\u001b[0m\u001b[0m__doc__\u001b[0m\u001b[0;34m\u001b[0m\u001b[0m\n\u001b[1;32m   6301\u001b[0m \u001b[0;34m\u001b[0m\u001b[0m\n",
      "\u001b[0;32m~/anaconda3/lib/python3.6/site-packages/numpy/ma/core.py\u001b[0m in \u001b[0;36m__new__\u001b[0;34m(cls, data, mask, dtype, copy, subok, ndmin, fill_value, keep_mask, hard_mask, shrink, order, **options)\u001b[0m\n\u001b[1;32m   2807\u001b[0m         \u001b[0;31m# Process data.\u001b[0m\u001b[0;34m\u001b[0m\u001b[0;34m\u001b[0m\u001b[0m\n\u001b[1;32m   2808\u001b[0m         _data = np.array(data, dtype=dtype, copy=copy,\n\u001b[0;32m-> 2809\u001b[0;31m                          order=order, subok=True, ndmin=ndmin)\n\u001b[0m\u001b[1;32m   2810\u001b[0m         \u001b[0m_baseclass\u001b[0m \u001b[0;34m=\u001b[0m \u001b[0mgetattr\u001b[0m\u001b[0;34m(\u001b[0m\u001b[0mdata\u001b[0m\u001b[0;34m,\u001b[0m \u001b[0;34m'_baseclass'\u001b[0m\u001b[0;34m,\u001b[0m \u001b[0mtype\u001b[0m\u001b[0;34m(\u001b[0m\u001b[0m_data\u001b[0m\u001b[0;34m)\u001b[0m\u001b[0;34m)\u001b[0m\u001b[0;34m\u001b[0m\u001b[0m\n\u001b[1;32m   2811\u001b[0m         \u001b[0;31m# Check that we're not erasing the mask.\u001b[0m\u001b[0;34m\u001b[0m\u001b[0;34m\u001b[0m\u001b[0m\n",
      "\u001b[0;31mTypeError\u001b[0m: float() argument must be a string or a number, not 'SingleBlockManager'"
     ]
    }
   ],
   "source": [
    "#before we get started, let's map out all art work\n",
    "#code 100% taken from stackoverflow\n",
    "cmap = plt.cm.Dark2 #this sets the colourmap we want\n",
    "norm = plt.Normalize(df['ward'].values.min(), df['ward'].values.max()) #this normalizes our colourmap (sets all the values between 0 and 1)\n",
    "\n",
    "for i, dff in df.groupby(\"ward\"): #we iterate through a filtered dataframe\n",
    "    plt.scatter(dff['x'], dff['y'], c=cmap(norm(dff['ward'])), #then say that we want a scatter plot of x against y with each ward as a colour\n",
    "                edgecolors='none', label=\"Ward {:g}\".format(i)) #and then we specify that our labels should say \"Ward + ward number\"\n",
    "\n",
    "plt.legend() #this is what we add to make sure we can see a legend"
   ]
  },
  {
   "cell_type": "markdown",
   "metadata": {},
   "source": [
    "## Let's start off with framing a few questions we have of the dataset  \n",
    "1) Which neighbourhoods have the most public art in DC?  \n",
    "2) Were particular mediums of art more popular in certain years?  \n",
    "3) Which areas have the most permanent exhibits?  \n",
    "4) Are certain mediums more common in specific areas?  \n",
    "5) Has there been an increase in the amount of public art in DC over the years?  "
   ]
  },
  {
   "cell_type": "markdown",
   "metadata": {},
   "source": [
    "#### 1) Which neighbourhoods have the most public art in DC?"
   ]
  },
  {
   "cell_type": "code",
   "execution_count": 16,
   "metadata": {},
   "outputs": [],
   "source": [
    "#lowering all the strings in neighbourhoods to avoid some of the duplicate names\n",
    "df.neighborhood = df.neighborhood.str.lower()"
   ]
  },
  {
   "cell_type": "code",
   "execution_count": 17,
   "metadata": {},
   "outputs": [
    {
     "data": {
      "text/plain": [
       "<matplotlib.axes._subplots.AxesSubplot at 0x1059a89b0>"
      ]
     },
     "execution_count": 17,
     "metadata": {},
     "output_type": "execute_result"
    },
    {
     "data": {
      "image/png": "[encoded data removed]",
      "text/plain": [
       "<matplotlib.figure.Figure at 0x10baa8198>"
      ]
     },
     "metadata": {},
     "output_type": "display_data"
    }
   ],
   "source": [
    "#first counting the number of times each neighbourhood appears in the dataframe, then plotting a bar chart that captures this information and specifying the size of the figure and font so we can see everything\n",
    "df.neighborhood.value_counts().plot(kind='bar', figsize=(40,40), fontsize=25)"
   ]
  },
  {
   "cell_type": "code",
   "execution_count": 18,
   "metadata": {},
   "outputs": [
    {
     "data": {
      "text/plain": [
       "anacostia               22\n",
       "shaw                    21\n",
       "downtown                15\n",
       "southwest waterfront    13\n",
       "columbia heights        11\n",
       "Name: neighborhood, dtype: int64"
      ]
     },
     "execution_count": 18,
     "metadata": {},
     "output_type": "execute_result"
    }
   ],
   "source": [
    "#and if you just want to see the names, here are the top five neighbourhoods with public art\n",
    "df.neighborhood.value_counts()[:5]"
   ]
  },
  {
   "cell_type": "code",
   "execution_count": 19,
   "metadata": {},
   "outputs": [
    {
     "data": {
      "text/plain": [
       "<matplotlib.axes._subplots.AxesSubplot at 0x105a59cc0>"
      ]
     },
     "execution_count": 19,
     "metadata": {},
     "output_type": "execute_result"
    },
    {
     "data": {
      "image/png": "[encoded data removed]",
      "text/plain": [
       "<matplotlib.figure.Figure at 0x10bd54da0>"
      ]
     },
     "metadata": {},
     "output_type": "display_data"
    }
   ],
   "source": [
    "#which WARD has the most public art? # Note: You're redefining the index when you do the\n",
    "# `value_counts()` on `ward`, so no need to go back and write a separate line of code\n",
    "df.ward.value_counts().sort_index().plot(kind='bar')"
   ]
  },
  {
   "cell_type": "code",
   "execution_count": 20,
   "metadata": {},
   "outputs": [
    {
     "name": "stderr",
     "output_type": "stream",
     "text": [
      "/Users/pk/anaconda3/lib/python3.6/site-packages/ipykernel_launcher.py:6: FutureWarning: 'pandas.tools.plotting.scatter_matrix' is deprecated, import 'pandas.plotting.scatter_matrix' instead.\n",
      "  \n"
     ]
    },
    {
     "data": {
      "text/plain": [
       "array([[<matplotlib.axes._subplots.AxesSubplot object at 0x105a59668>,\n",
       "        <matplotlib.axes._subplots.AxesSubplot object at 0x11780d588>,\n",
       "        <matplotlib.axes._subplots.AxesSubplot object at 0x1178db5f8>],\n",
       "       [<matplotlib.axes._subplots.AxesSubplot object at 0x1179127b8>,\n",
       "        <matplotlib.axes._subplots.AxesSubplot object at 0x11794c908>,\n",
       "        <matplotlib.axes._subplots.AxesSubplot object at 0x11794c940>],\n",
       "       [<matplotlib.axes._subplots.AxesSubplot object at 0x1179b66d8>,\n",
       "        <matplotlib.axes._subplots.AxesSubplot object at 0x1179ef7b8>,\n",
       "        <matplotlib.axes._subplots.AxesSubplot object at 0x117a27978>]], dtype=object)"
      ]
     },
     "execution_count": 20,
     "metadata": {},
     "output_type": "execute_result"
    },
    {
     "data": {
      "image/png": "[encoded data removed]",
      "text/plain": [
       "<matplotlib.figure.Figure at 0x1177761d0>"
      ]
     },
     "metadata": {},
     "output_type": "display_data"
    }
   ],
   "source": [
    "# quick tool tip for datasets with more numerical data\n",
    "# you can look at relationships between different columns/variables by using a scatter matrix\n",
    "# this is obviously not a great example but here's the code for it\n",
    "# use Seaborn's variant instead\n",
    "from pandas.tools.plotting import scatter_matrix\n",
    "scatter_matrix(df, alpha=0.6, figsize=(6,6), diagonal='kde')"
   ]
  },
  {
   "cell_type": "markdown",
   "metadata": {},
   "source": [
    "#### 2) Were particular mediums of art more popular in certain years?  \n"
   ]
  },
  {
   "cell_type": "code",
   "execution_count": 21,
   "metadata": {},
   "outputs": [],
   "source": [
    "#we're going to use a function to check what the most common and least common mediums are in any given year:\n",
    "def most_least_common(year): #this defines the function \n",
    "    print ('In the year '+ str(year)) #this will print out the first line and the year we're looking at\n",
    "    print (df[df['year']==str(year)].medium.value_counts()[:1]) #this creates a filtered dataframe of rows in the year we're looking at. It then counts the number of time each medium occurs and we slice that dataframe to only call the first one \n",
    "    print ('was most popular')\n",
    "    print (df[df['year']==str(year)].medium.value_counts()[-1:]) #this creates the same filtered dataframe, counts the number of time each medium occurs, but only pulls out the last row\n",
    "    print ('was least popular')\n",
    "\n",
    "#note: this is obviously not the best way to look at the least popular medium given there are so many things\n",
    "#that only occur once, but I wanted to demonstrate how you'd select rows at the bottom of a dataframe!"
   ]
  },
  {
   "cell_type": "code",
   "execution_count": 22,
   "metadata": {
    "scrolled": true
   },
   "outputs": [
    {
     "name": "stdout",
     "output_type": "stream",
     "text": [
      "In the year 2014\n",
      "Video projection    5\n",
      "Name: medium, dtype: int64\n",
      "was most popular\n",
      "Polymer modified gypsum, fiberglass, stainless steel, pigment    1\n",
      "Name: medium, dtype: int64\n",
      "was least popular\n"
     ]
    }
   ],
   "source": [
    "most_least_common(2014)"
   ]
  },
  {
   "cell_type": "code",
   "execution_count": 23,
   "metadata": {},
   "outputs": [
    {
     "name": "stdout",
     "output_type": "stream",
     "text": [
      "In the year 1998\n",
      "Bronze    1\n",
      "Name: medium, dtype: int64\n",
      "was most popular\n",
      "Paint on board    1\n",
      "Name: medium, dtype: int64\n",
      "was least popular\n"
     ]
    }
   ],
   "source": [
    "most_least_common(1998)"
   ]
  },
  {
   "cell_type": "code",
   "execution_count": 24,
   "metadata": {},
   "outputs": [
    {
     "name": "stdout",
     "output_type": "stream",
     "text": [
      "In the year 2008\n",
      "Aerosol paint    10\n",
      "Name: medium, dtype: int64\n",
      "was most popular\n",
      "KEIM Mineral Paint    1\n",
      "Name: medium, dtype: int64\n",
      "was least popular\n"
     ]
    }
   ],
   "source": [
    "most_least_common(2008)"
   ]
  },
  {
   "cell_type": "code",
   "execution_count": 25,
   "metadata": {},
   "outputs": [],
   "source": [
    "# practice writing our own function\n",
    "# my function counts values and then groups the results by year\n",
    "def most_common_X_by_year(data_frame):\n",
    "    sorted_frame = [data_frame[column].value_counts().groupby(year).sort_values()\n",
    "                    for column in data_frame]\n",
    "    return sorted_frame"
   ]
  },
  {
   "cell_type": "code",
   "execution_count": 37,
   "metadata": {},
   "outputs": [
    {
     "data": {
      "text/plain": [
       "<matplotlib.axes._subplots.AxesSubplot at 0x1a19751c50>"
      ]
     },
     "execution_count": 37,
     "metadata": {},
     "output_type": "execute_result"
    },
    {
     "data": {
      "image/png": "[encoded data removed]",
      "text/plain": [
       "<matplotlib.figure.Figure at 0x1a197431d0>"
      ]
     },
     "metadata": {},
     "output_type": "display_data"
    }
   ],
   "source": [
    "#side question: has the use of paint gone down?\n",
    "#we're first going to make sure everything in medium is lower case\n",
    "df.medium = df.medium.str.lower()\n",
    "#we're creating a filtered dataframe where the word 'paint' appears in any medium, counting the number of times that occurs per year, sorting our values by the index (year) instead of frequency, and then generating a line plot \n",
    "df[df.medium.str.contains('paint')==True].year.value_counts().sort_index().plot(kind='line')"
   ]
  },
  {
   "cell_type": "code",
   "execution_count": 27,
   "metadata": {},
   "outputs": [
    {
     "data": {
      "text/plain": [
       "<matplotlib.axes._subplots.AxesSubplot at 0x117a36240>"
      ]
     },
     "execution_count": 27,
     "metadata": {},
     "output_type": "execute_result"
    },
    {
     "data": {
      "image/png": "[encoded data removed]",
      "text/plain": [
       "<matplotlib.figure.Figure at 0x1a193efdd8>"
      ]
     },
     "metadata": {},
     "output_type": "display_data"
    }
   ],
   "source": [
    "#what if we wanted to look at both paint AND murals (which are a kind of paint, right?)\n",
    "df[(df.medium.str.contains('paint') | df.medium.str.contains('mural'))].year.value_counts().sort_index().plot(kind='line')"
   ]
  },
  {
   "cell_type": "markdown",
   "metadata": {},
   "source": [
    "#### 3) Which areas have the most permanent exhibits?  \n"
   ]
  },
  {
   "cell_type": "code",
   "execution_count": 28,
   "metadata": {},
   "outputs": [],
   "source": [
    "#to figure this out, let's first convert the 'duration' column to numbers so it's easier to sum up. \n",
    "#one of the ways we can do that is to create a dictionary where we assign a number to each string\n",
    "boolean = {'Temporary': 0, 'Permanent': 1}\n",
    "#we can then map those values to the 'duration' column so the string values are replaced with the numbers we coded\n",
    "df['duration'] = df.duration.map(boolean)\n"
   ]
  },
  {
   "cell_type": "code",
   "execution_count": 38,
   "metadata": {},
   "outputs": [
    {
     "data": {
      "text/html": [
       "<div>\n",
       "<style>\n",
       "    .dataframe thead tr:only-child th {\n",
       "        text-align: right;\n",
       "    }\n",
       "\n",
       "    .dataframe thead th {\n",
       "        text-align: left;\n",
       "    }\n",
       "\n",
       "    .dataframe tbody tr th {\n",
       "        vertical-align: top;\n",
       "    }\n",
       "</style>\n",
       "<table border=\"1\" class=\"dataframe\">\n",
       "  <thead>\n",
       "    <tr style=\"text-align: right;\">\n",
       "      <th></th>\n",
       "      <th>x</th>\n",
       "      <th>y</th>\n",
       "      <th>address</th>\n",
       "      <th>artist</th>\n",
       "      <th>title</th>\n",
       "      <th>medium</th>\n",
       "      <th>year</th>\n",
       "      <th>art_type</th>\n",
       "      <th>display</th>\n",
       "      <th>location</th>\n",
       "      <th>neighborhood</th>\n",
       "      <th>size_</th>\n",
       "      <th>ward</th>\n",
       "      <th>duration</th>\n",
       "      <th>program_source</th>\n",
       "      <th>artwork</th>\n",
       "    </tr>\n",
       "  </thead>\n",
       "  <tbody>\n",
       "    <tr>\n",
       "      <th>0</th>\n",
       "      <td>-77.023515</td>\n",
       "      <td>38.914256</td>\n",
       "      <td>813 S STREET NW</td>\n",
       "      <td>Richard Colman</td>\n",
       "      <td>Checker Club</td>\n",
       "      <td>aerosol paint</td>\n",
       "      <td>2011</td>\n",
       "      <td>Mural</td>\n",
       "      <td>Capitol Pool Checkers Club, located at back of...</td>\n",
       "      <td>813 s street nw</td>\n",
       "      <td>shaw</td>\n",
       "      <td>NaN</td>\n",
       "      <td>1</td>\n",
       "      <td>0</td>\n",
       "      <td>MuralsDC</td>\n",
       "      <td>NaN</td>\n",
       "    </tr>\n",
       "    <tr>\n",
       "      <th>1</th>\n",
       "      <td>-76.986446</td>\n",
       "      <td>38.867187</td>\n",
       "      <td>1320 GOOD HOPE ROAD SE</td>\n",
       "      <td>Helping Inner City Youth Succeed, Hicks</td>\n",
       "      <td>Untitled</td>\n",
       "      <td>aerosol paint</td>\n",
       "      <td>2009</td>\n",
       "      <td>Mural</td>\n",
       "      <td>African Heritage Center for African Dance &amp; Mu...</td>\n",
       "      <td>1320b good hope road se</td>\n",
       "      <td>anacostia</td>\n",
       "      <td>1209 sq. ft.</td>\n",
       "      <td>8</td>\n",
       "      <td>0</td>\n",
       "      <td>MuralsDC</td>\n",
       "      <td>NaN</td>\n",
       "    </tr>\n",
       "    <tr>\n",
       "      <th>2</th>\n",
       "      <td>-76.995284</td>\n",
       "      <td>38.879775</td>\n",
       "      <td>745 8TH STREET SE</td>\n",
       "      <td>Michael Hammond</td>\n",
       "      <td>Depiction of the House’s Go-go Band</td>\n",
       "      <td>aerosol paint on concrete</td>\n",
       "      <td>2011</td>\n",
       "      <td>Mural</td>\n",
       "      <td>Sasha Bruce House, mural located on front of b...</td>\n",
       "      <td>745 8th street se</td>\n",
       "      <td>capitol hill</td>\n",
       "      <td>140 sq. feet</td>\n",
       "      <td>6</td>\n",
       "      <td>1</td>\n",
       "      <td>Commissioned Project</td>\n",
       "      <td>NaN</td>\n",
       "    </tr>\n",
       "    <tr>\n",
       "      <th>3</th>\n",
       "      <td>-77.001522</td>\n",
       "      <td>38.957041</td>\n",
       "      <td>320 RIGGS ROAD NE</td>\n",
       "      <td>Joel Bergner and Rashad Cuffee</td>\n",
       "      <td>Life Makes Music</td>\n",
       "      <td>aerosol paint</td>\n",
       "      <td>2008</td>\n",
       "      <td>Mural</td>\n",
       "      <td>Off the intersection at South Dakota Ave NE &amp; ...</td>\n",
       "      <td>357 riggs road ne</td>\n",
       "      <td>petworth</td>\n",
       "      <td>NaN</td>\n",
       "      <td>4</td>\n",
       "      <td>0</td>\n",
       "      <td>Neighborhood Projects</td>\n",
       "      <td>NaN</td>\n",
       "    </tr>\n",
       "    <tr>\n",
       "      <th>4</th>\n",
       "      <td>-77.016780</td>\n",
       "      <td>38.974892</td>\n",
       "      <td>314 CARROLL STREET NW</td>\n",
       "      <td>Words, Beats and Life</td>\n",
       "      <td>Takoma Green</td>\n",
       "      <td>aerosol paint</td>\n",
       "      <td>2009</td>\n",
       "      <td>Mural</td>\n",
       "      <td>Elevation 314, mural is located behind 314 Car...</td>\n",
       "      <td>314 carroll street nw</td>\n",
       "      <td>takoma</td>\n",
       "      <td>150 x 10'</td>\n",
       "      <td>4</td>\n",
       "      <td>0</td>\n",
       "      <td>Neighborhood Projects</td>\n",
       "      <td>NaN</td>\n",
       "    </tr>\n",
       "  </tbody>\n",
       "</table>\n",
       "</div>"
      ],
      "text/plain": [
       "           x          y                 address  \\\n",
       "0 -77.023515  38.914256         813 S STREET NW   \n",
       "1 -76.986446  38.867187  1320 GOOD HOPE ROAD SE   \n",
       "2 -76.995284  38.879775       745 8TH STREET SE   \n",
       "3 -77.001522  38.957041       320 RIGGS ROAD NE   \n",
       "4 -77.016780  38.974892   314 CARROLL STREET NW   \n",
       "\n",
       "                                    artist  \\\n",
       "0                           Richard Colman   \n",
       "1  Helping Inner City Youth Succeed, Hicks   \n",
       "2                          Michael Hammond   \n",
       "3           Joel Bergner and Rashad Cuffee   \n",
       "4                    Words, Beats and Life   \n",
       "\n",
       "                                 title                     medium  year  \\\n",
       "0                         Checker Club              aerosol paint  2011   \n",
       "1                             Untitled              aerosol paint  2009   \n",
       "2  Depiction of the House’s Go-go Band  aerosol paint on concrete  2011   \n",
       "3                     Life Makes Music              aerosol paint  2008   \n",
       "4                         Takoma Green              aerosol paint  2009   \n",
       "\n",
       "  art_type                                            display  \\\n",
       "0    Mural  Capitol Pool Checkers Club, located at back of...   \n",
       "1    Mural  African Heritage Center for African Dance & Mu...   \n",
       "2    Mural  Sasha Bruce House, mural located on front of b...   \n",
       "3    Mural  Off the intersection at South Dakota Ave NE & ...   \n",
       "4    Mural  Elevation 314, mural is located behind 314 Car...   \n",
       "\n",
       "                  location  neighborhood         size_  ward  duration  \\\n",
       "0          813 s street nw          shaw           NaN     1         0   \n",
       "1  1320b good hope road se     anacostia  1209 sq. ft.     8         0   \n",
       "2        745 8th street se  capitol hill  140 sq. feet     6         1   \n",
       "3        357 riggs road ne      petworth           NaN     4         0   \n",
       "4    314 carroll street nw        takoma     150 x 10'     4         0   \n",
       "\n",
       "          program_source artwork  \n",
       "0               MuralsDC     NaN  \n",
       "1               MuralsDC     NaN  \n",
       "2   Commissioned Project     NaN  \n",
       "3  Neighborhood Projects     NaN  \n",
       "4  Neighborhood Projects     NaN  "
      ]
     },
     "execution_count": 38,
     "metadata": {},
     "output_type": "execute_result"
    }
   ],
   "source": [
    "#checking if it worked\n",
    "df.head()"
   ]
  },
  {
   "cell_type": "code",
   "execution_count": 30,
   "metadata": {},
   "outputs": [
    {
     "data": {
      "text/plain": [
       "ward\n",
       "6    28\n",
       "1    20\n",
       "2    19\n",
       "8    17\n",
       "7    10\n",
       "4    10\n",
       "5     7\n",
       "3     3\n",
       "Name: duration, dtype: int64"
      ]
     },
     "execution_count": 30,
     "metadata": {},
     "output_type": "execute_result"
    }
   ],
   "source": [
    "#now we can group by wards and then sum up the number of permanent exhibits we have\n",
    "df.groupby('ward').duration.sum().sort_values(ascending=False)"
   ]
  },
  {
   "cell_type": "code",
   "execution_count": 40,
   "metadata": {},
   "outputs": [
    {
     "ename": "TypeError",
     "evalue": "float() argument must be a string or a number, not 'SingleBlockManager'",
     "output_type": "error",
     "traceback": [
      "\u001b[0;31m---------------------------------------------------------------------------\u001b[0m",
      "\u001b[0;31mTypeError\u001b[0m                                 Traceback (most recent call last)",
      "\u001b[0;32m<ipython-input-40-034808f36329>\u001b[0m in \u001b[0;36m<module>\u001b[0;34m()\u001b[0m\n\u001b[1;32m      3\u001b[0m \u001b[0;31m#we iterate through a filtered dataframe\u001b[0m\u001b[0;34m\u001b[0m\u001b[0;34m\u001b[0m\u001b[0m\n\u001b[1;32m      4\u001b[0m \u001b[0;32mfor\u001b[0m \u001b[0mi\u001b[0m\u001b[0;34m,\u001b[0m \u001b[0mdff\u001b[0m \u001b[0;32min\u001b[0m \u001b[0mdf\u001b[0m\u001b[0;34m.\u001b[0m\u001b[0mgroupby\u001b[0m\u001b[0;34m(\u001b[0m\u001b[0;34m\"duration\"\u001b[0m\u001b[0;34m)\u001b[0m\u001b[0;34m:\u001b[0m\u001b[0;34m\u001b[0m\u001b[0m\n\u001b[0;32m----> 5\u001b[0;31m     \u001b[0mplt\u001b[0m\u001b[0;34m.\u001b[0m\u001b[0mscatter\u001b[0m\u001b[0;34m(\u001b[0m\u001b[0mdff\u001b[0m\u001b[0;34m[\u001b[0m\u001b[0;34m'x'\u001b[0m\u001b[0;34m]\u001b[0m\u001b[0;34m,\u001b[0m \u001b[0mdff\u001b[0m\u001b[0;34m[\u001b[0m\u001b[0;34m'y'\u001b[0m\u001b[0;34m]\u001b[0m\u001b[0;34m,\u001b[0m \u001b[0mc\u001b[0m\u001b[0;34m=\u001b[0m\u001b[0mcmap\u001b[0m\u001b[0;34m(\u001b[0m\u001b[0mnorm\u001b[0m\u001b[0;34m(\u001b[0m\u001b[0mdff\u001b[0m\u001b[0;34m[\u001b[0m\u001b[0;34m'duration'\u001b[0m\u001b[0;34m]\u001b[0m\u001b[0;34m)\u001b[0m\u001b[0;34m)\u001b[0m\u001b[0;34m,\u001b[0m \u001b[0medgecolors\u001b[0m\u001b[0;34m=\u001b[0m\u001b[0;34m'none'\u001b[0m\u001b[0;34m,\u001b[0m \u001b[0mlabel\u001b[0m\u001b[0;34m=\u001b[0m\u001b[0;34m\"{0}\"\u001b[0m\u001b[0;34m.\u001b[0m\u001b[0mformat\u001b[0m\u001b[0;34m(\u001b[0m\u001b[0mi\u001b[0m\u001b[0;34m)\u001b[0m\u001b[0;34m)\u001b[0m\u001b[0;34m\u001b[0m\u001b[0m\n\u001b[0m\u001b[1;32m      6\u001b[0m \u001b[0;31m#then say that we want a scatter plot of x against y with each duration as a colour\u001b[0m\u001b[0;34m\u001b[0m\u001b[0;34m\u001b[0m\u001b[0m\n\u001b[1;32m      7\u001b[0m \u001b[0;31m#and then we specify that our labels should say 0 or 1\u001b[0m\u001b[0;34m\u001b[0m\u001b[0;34m\u001b[0m\u001b[0m\n",
      "\u001b[0;32m~/anaconda3/lib/python3.6/site-packages/matplotlib/colors.py\u001b[0m in \u001b[0;36m__call__\u001b[0;34m(self, value, clip)\u001b[0m\n\u001b[1;32m    917\u001b[0m             \u001b[0mclip\u001b[0m \u001b[0;34m=\u001b[0m \u001b[0mself\u001b[0m\u001b[0;34m.\u001b[0m\u001b[0mclip\u001b[0m\u001b[0;34m\u001b[0m\u001b[0m\n\u001b[1;32m    918\u001b[0m \u001b[0;34m\u001b[0m\u001b[0m\n\u001b[0;32m--> 919\u001b[0;31m         \u001b[0mresult\u001b[0m\u001b[0;34m,\u001b[0m \u001b[0mis_scalar\u001b[0m \u001b[0;34m=\u001b[0m \u001b[0mself\u001b[0m\u001b[0;34m.\u001b[0m\u001b[0mprocess_value\u001b[0m\u001b[0;34m(\u001b[0m\u001b[0mvalue\u001b[0m\u001b[0;34m)\u001b[0m\u001b[0;34m\u001b[0m\u001b[0m\n\u001b[0m\u001b[1;32m    920\u001b[0m \u001b[0;34m\u001b[0m\u001b[0m\n\u001b[1;32m    921\u001b[0m         \u001b[0mself\u001b[0m\u001b[0;34m.\u001b[0m\u001b[0mautoscale_None\u001b[0m\u001b[0;34m(\u001b[0m\u001b[0mresult\u001b[0m\u001b[0;34m)\u001b[0m\u001b[0;34m\u001b[0m\u001b[0m\n",
      "\u001b[0;32m~/anaconda3/lib/python3.6/site-packages/matplotlib/colors.py\u001b[0m in \u001b[0;36mprocess_value\u001b[0;34m(value)\u001b[0m\n\u001b[1;32m    903\u001b[0m         \u001b[0mmask\u001b[0m \u001b[0;34m=\u001b[0m \u001b[0mnp\u001b[0m\u001b[0;34m.\u001b[0m\u001b[0mma\u001b[0m\u001b[0;34m.\u001b[0m\u001b[0mgetmask\u001b[0m\u001b[0;34m(\u001b[0m\u001b[0mvalue\u001b[0m\u001b[0;34m)\u001b[0m\u001b[0;34m\u001b[0m\u001b[0m\n\u001b[1;32m    904\u001b[0m         \u001b[0mdata\u001b[0m \u001b[0;34m=\u001b[0m \u001b[0mnp\u001b[0m\u001b[0;34m.\u001b[0m\u001b[0masarray\u001b[0m\u001b[0;34m(\u001b[0m\u001b[0mnp\u001b[0m\u001b[0;34m.\u001b[0m\u001b[0mma\u001b[0m\u001b[0;34m.\u001b[0m\u001b[0mgetdata\u001b[0m\u001b[0;34m(\u001b[0m\u001b[0mvalue\u001b[0m\u001b[0;34m)\u001b[0m\u001b[0;34m)\u001b[0m\u001b[0;34m\u001b[0m\u001b[0m\n\u001b[0;32m--> 905\u001b[0;31m         \u001b[0mresult\u001b[0m \u001b[0;34m=\u001b[0m \u001b[0mnp\u001b[0m\u001b[0;34m.\u001b[0m\u001b[0mma\u001b[0m\u001b[0;34m.\u001b[0m\u001b[0marray\u001b[0m\u001b[0;34m(\u001b[0m\u001b[0mdata\u001b[0m\u001b[0;34m,\u001b[0m \u001b[0mmask\u001b[0m\u001b[0;34m=\u001b[0m\u001b[0mmask\u001b[0m\u001b[0;34m,\u001b[0m \u001b[0mdtype\u001b[0m\u001b[0;34m=\u001b[0m\u001b[0mdtype\u001b[0m\u001b[0;34m,\u001b[0m \u001b[0mcopy\u001b[0m\u001b[0;34m=\u001b[0m\u001b[0;32mTrue\u001b[0m\u001b[0;34m)\u001b[0m\u001b[0;34m\u001b[0m\u001b[0m\n\u001b[0m\u001b[1;32m    906\u001b[0m         \u001b[0;32mreturn\u001b[0m \u001b[0mresult\u001b[0m\u001b[0;34m,\u001b[0m \u001b[0mis_scalar\u001b[0m\u001b[0;34m\u001b[0m\u001b[0m\n\u001b[1;32m    907\u001b[0m \u001b[0;34m\u001b[0m\u001b[0m\n",
      "\u001b[0;32m~/anaconda3/lib/python3.6/site-packages/numpy/ma/core.py\u001b[0m in \u001b[0;36marray\u001b[0;34m(data, dtype, copy, order, mask, fill_value, keep_mask, hard_mask, shrink, subok, ndmin)\u001b[0m\n\u001b[1;32m   6297\u001b[0m                        \u001b[0msubok\u001b[0m\u001b[0;34m=\u001b[0m\u001b[0msubok\u001b[0m\u001b[0;34m,\u001b[0m \u001b[0mkeep_mask\u001b[0m\u001b[0;34m=\u001b[0m\u001b[0mkeep_mask\u001b[0m\u001b[0;34m,\u001b[0m\u001b[0;34m\u001b[0m\u001b[0m\n\u001b[1;32m   6298\u001b[0m                        \u001b[0mhard_mask\u001b[0m\u001b[0;34m=\u001b[0m\u001b[0mhard_mask\u001b[0m\u001b[0;34m,\u001b[0m \u001b[0mfill_value\u001b[0m\u001b[0;34m=\u001b[0m\u001b[0mfill_value\u001b[0m\u001b[0;34m,\u001b[0m\u001b[0;34m\u001b[0m\u001b[0m\n\u001b[0;32m-> 6299\u001b[0;31m                        ndmin=ndmin, shrink=shrink, order=order)\n\u001b[0m\u001b[1;32m   6300\u001b[0m \u001b[0marray\u001b[0m\u001b[0;34m.\u001b[0m\u001b[0m__doc__\u001b[0m \u001b[0;34m=\u001b[0m \u001b[0mmasked_array\u001b[0m\u001b[0;34m.\u001b[0m\u001b[0m__doc__\u001b[0m\u001b[0;34m\u001b[0m\u001b[0m\n\u001b[1;32m   6301\u001b[0m \u001b[0;34m\u001b[0m\u001b[0m\n",
      "\u001b[0;32m~/anaconda3/lib/python3.6/site-packages/numpy/ma/core.py\u001b[0m in \u001b[0;36m__new__\u001b[0;34m(cls, data, mask, dtype, copy, subok, ndmin, fill_value, keep_mask, hard_mask, shrink, order, **options)\u001b[0m\n\u001b[1;32m   2807\u001b[0m         \u001b[0;31m# Process data.\u001b[0m\u001b[0;34m\u001b[0m\u001b[0;34m\u001b[0m\u001b[0m\n\u001b[1;32m   2808\u001b[0m         _data = np.array(data, dtype=dtype, copy=copy,\n\u001b[0;32m-> 2809\u001b[0;31m                          order=order, subok=True, ndmin=ndmin)\n\u001b[0m\u001b[1;32m   2810\u001b[0m         \u001b[0m_baseclass\u001b[0m \u001b[0;34m=\u001b[0m \u001b[0mgetattr\u001b[0m\u001b[0;34m(\u001b[0m\u001b[0mdata\u001b[0m\u001b[0;34m,\u001b[0m \u001b[0;34m'_baseclass'\u001b[0m\u001b[0;34m,\u001b[0m \u001b[0mtype\u001b[0m\u001b[0;34m(\u001b[0m\u001b[0m_data\u001b[0m\u001b[0;34m)\u001b[0m\u001b[0;34m)\u001b[0m\u001b[0;34m\u001b[0m\u001b[0m\n\u001b[1;32m   2811\u001b[0m         \u001b[0;31m# Check that we're not erasing the mask.\u001b[0m\u001b[0;34m\u001b[0m\u001b[0;34m\u001b[0m\u001b[0m\n",
      "\u001b[0;31mTypeError\u001b[0m: float() argument must be a string or a number, not 'SingleBlockManager'"
     ]
    }
   ],
   "source": [
    "cmap = plt.cm.Dark2 #this sets the colourmap we want\n",
    "norm = plt.Normalize(df['duration'].values.min(), df['duration'].values.max()) #this normalizes our colourmap (sets all the values between 0 and 1)\n",
    "#we iterate through a filtered dataframe\n",
    "for i, dff in df.groupby(\"duration\"):\n",
    "    plt.scatter(dff['x'], dff['y'], c=cmap(norm(dff['duration'])), edgecolors='none', label=\"{0}\".format(i)) \n",
    "#then say that we want a scatter plot of x against y with each duration as a colour\n",
    "#and then we specify that our labels should say 0 or 1    \n",
    "plt.legend() #this is what we add to make sure we can see a legend"
   ]
  },
  {
   "cell_type": "code",
   "execution_count": null,
   "metadata": {},
   "outputs": [],
   "source": [
    "#we can also do that by neighbourhood\n",
    "df.groupby('neighborhood').duration.sum().sort_values(ascending=False)"
   ]
  },
  {
   "cell_type": "markdown",
   "metadata": {},
   "source": [
    "#### 4) Are certain mediums more common in specific areas?  "
   ]
  },
  {
   "cell_type": "code",
   "execution_count": null,
   "metadata": {},
   "outputs": [],
   "source": [
    "def popular(neighborhood): #this defines the function again\n",
    "    print ('in', neighborhood) #we're asking our function to specify the neighbourhood we're looking for\n",
    "    print (df[df['neighborhood'].str.contains(neighborhood)==True].medium.value_counts()[:5]) #this creates a filtered dataframe of rows in the neighbourhood we're looking at. It then counts the number of time each medium occurs and we slice that dataframe to call the top 5  \n",
    "    print ('were most popular')\n",
    "#note: by using str.contains(), we're looking for anything that would contain the substring 'shaw' so we can count things like logan circle/shaw"
   ]
  },
  {
   "cell_type": "code",
   "execution_count": null,
   "metadata": {},
   "outputs": [],
   "source": [
    "popular('shaw')"
   ]
  },
  {
   "cell_type": "code",
   "execution_count": 32,
   "metadata": {
    "scrolled": true
   },
   "outputs": [
    {
     "ename": "NameError",
     "evalue": "name 'popular' is not defined",
     "output_type": "error",
     "traceback": [
      "\u001b[0;31m---------------------------------------------------------------------------\u001b[0m",
      "\u001b[0;31mNameError\u001b[0m                                 Traceback (most recent call last)",
      "\u001b[0;32m<ipython-input-32-72982e4dbe9d>\u001b[0m in \u001b[0;36m<module>\u001b[0;34m()\u001b[0m\n\u001b[0;32m----> 1\u001b[0;31m \u001b[0mpopular\u001b[0m\u001b[0;34m(\u001b[0m\u001b[0;34m'anacostia'\u001b[0m\u001b[0;34m)\u001b[0m\u001b[0;34m\u001b[0m\u001b[0m\n\u001b[0m",
      "\u001b[0;31mNameError\u001b[0m: name 'popular' is not defined"
     ]
    }
   ],
   "source": [
    "popular('anacostia')"
   ]
  },
  {
   "cell_type": "code",
   "execution_count": null,
   "metadata": {},
   "outputs": [],
   "source": [
    "#so that doesn't QUITE answer our question, so let's try this:\n",
    "def common(medium): #this defines the function again\n",
    "    print ('the medium', medium, 'was most popular in')\n",
    "    print (df[df['medium'].str.contains(medium)==True].neighborhood.value_counts()[:5])  "
   ]
  },
  {
   "cell_type": "code",
   "execution_count": null,
   "metadata": {},
   "outputs": [],
   "source": [
    "common('paint')"
   ]
  },
  {
   "cell_type": "code",
   "execution_count": null,
   "metadata": {},
   "outputs": [],
   "source": [
    "common('wood')"
   ]
  },
  {
   "cell_type": "code",
   "execution_count": null,
   "metadata": {},
   "outputs": [],
   "source": [
    "common('maps')"
   ]
  },
  {
   "cell_type": "markdown",
   "metadata": {},
   "source": [
    "#### 5) Has there been an increase in the amount of public art in DC over the years?  "
   ]
  },
  {
   "cell_type": "code",
   "execution_count": null,
   "metadata": {},
   "outputs": [],
   "source": [
    "#the ability to work with datetime structures is one of the best things about pandas\n",
    "#you can create a column with the date by calling pandas.to_datetime(column_name)\n",
    "df['date'] = pd.to_datetime(df['year'])"
   ]
  },
  {
   "cell_type": "code",
   "execution_count": null,
   "metadata": {},
   "outputs": [],
   "source": [
    "df.head()"
   ]
  },
  {
   "cell_type": "code",
   "execution_count": null,
   "metadata": {},
   "outputs": [],
   "source": [
    "#obviously not every piece of art was completed on 1 Jan, and we're only really interested in the year, so let's extract that into our old year column\n",
    "df['year'] = df['date'].dt.year"
   ]
  },
  {
   "cell_type": "code",
   "execution_count": null,
   "metadata": {},
   "outputs": [],
   "source": [
    "df.dtypes"
   ]
  },
  {
   "cell_type": "code",
   "execution_count": null,
   "metadata": {},
   "outputs": [],
   "source": [
    "df.year.value_counts().sort_index().plot(kind='line')\n",
    "plt.xlabel(\"Year\")\n",
    "plt.ylabel(\"Pieces of art\")\n",
    "plt.title(\"Public art over the years\")"
   ]
  },
  {
   "cell_type": "code",
   "execution_count": null,
   "metadata": {},
   "outputs": [],
   "source": [
    "#what about looking at the rate of change in each ward?\n",
    "#to do that we're first going to create a new dataframe comparing years against ward\n",
    "df_ward = pd.crosstab(df.year, df.ward)"
   ]
  },
  {
   "cell_type": "code",
   "execution_count": null,
   "metadata": {
    "scrolled": true
   },
   "outputs": [],
   "source": [
    "plt.plot(df_ward[:], linewidth=6.0)\n",
    "plt.legend(df_ward.columns)\n",
    "#change figure size\n",
    "fig_size = plt.rcParams[\"figure.figsize\"]\n",
    "fig_size[0] = 50\n",
    "fig_size[1] = 30\n",
    "plt.rcParams[\"figure.figsize\"] = fig_size\n",
    "#change font size\n",
    "font = {'family' : 'normal',\n",
    "        'weight' : 'bold',\n",
    "        'size'   : 22}\n",
    "\n",
    "plt.rc('font', **font)\n"
   ]
  },
  {
   "cell_type": "markdown",
   "metadata": {
    "collapsed": true
   },
   "source": [
    "### Next steps:\n",
    "- There are a bunch of other datasets at http://opendata.dc.gov/ that you can also look at. I've included some datasets on awards given out by ward in this repo\n",
    "- Want to explore more numerical datasets? Here's a great tutorial that looks at life expectancies around the world: https://github.com/alfredessa/awesomedata.science/blob/master/2.0PandasIntro/Intro.Pandas.EDA.ipynb\n",
    "- Want to dive into the visualization aspect of EDA? This isn't a tutorial as much as a walk-through of Hadley Wickham's thought process. Still worth it: https://www.youtube.com/watch?v=ZdPNBF6GWBw\n",
    "- Want more datasets to dig into? Jeremy Singer-Vine from BuzzFeed puts out a regular newsletter called Data is Plural. You can sign up and access the archives here: https://tinyletter.com/data-is-plural; Kaggle (the data science competition website) also has a tonne of great (clean!) datasets available: https://www.kaggle.com/datasets. Their head of data preparation, Rachael Tatman, also has a fantastic newsletter where she shares linguistic datasets: http://rachaeltatman.com/ (she also live codes on Friday nights!)\n",
    "\n",
    "Questions? Requests for more resources? Hit me up on Twitter @mostlyinane or shoot me an email."
   ]
  }
 ],
 "metadata": {
  "anaconda-cloud": {},
  "kernelspec": {
   "display_name": "Python 3",
   "language": "python",
   "name": "python3"
  },
  "language_info": {
   "codemirror_mode": {
    "name": "ipython",
    "version": 3
   },
   "file_extension": ".py",
   "mimetype": "text/x-python",
   "name": "python",
   "nbconvert_exporter": "python",
   "pygments_lexer": "ipython3",
   "version": "3.6.4"
  }
 },
 "nbformat": 4,
 "nbformat_minor": 1
}
